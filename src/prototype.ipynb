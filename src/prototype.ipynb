{
 "cells": [
  {
   "cell_type": "code",
   "execution_count": 1,
   "metadata": {},
   "outputs": [],
   "source": [
    "import numpy as np\n",
    "import cv2\n",
    "from skimage.feature import peak_local_max"
   ]
  },
  {
   "cell_type": "code",
   "execution_count": 2,
   "metadata": {},
   "outputs": [],
   "source": [
    "demOr = cv2.imread('../data/golf_dem.tif', cv2.IMREAD_GRAYSCALE | cv2.IMREAD_ANYDEPTH)"
   ]
  },
  {
   "cell_type": "code",
   "execution_count": 3,
   "metadata": {},
   "outputs": [],
   "source": [
    "orthoimage = cv2.imread('../data/golf_ortho.tif')"
   ]
  },
  {
   "cell_type": "code",
   "execution_count": 4,
   "metadata": {},
   "outputs": [],
   "source": [
    "dem = cv2.GaussianBlur(demOr, (21, 21), 0, 0)"
   ]
  },
  {
   "cell_type": "code",
   "execution_count": 5,
   "metadata": {},
   "outputs": [],
   "source": [
    "def is_local_maxima(image, row, col):\n",
    "    ok = True\n",
    "    if image[row][col] < -30000:\n",
    "        return False\n",
    "    for r in range(row-2, row+3):\n",
    "        for c in range(col-2, col+3):\n",
    "            ok = ok and image[r][c] <= image[row][col] \n",
    "    return ok"
   ]
  },
  {
   "cell_type": "code",
   "execution_count": 6,
   "metadata": {},
   "outputs": [],
   "source": [
    "def find_local_maxima(image):\n",
    "    maxima = []\n",
    "    for i in range(2, image.shape[0] - 2):\n",
    "        for j in range(2, image.shape[1] - 2):\n",
    "            if is_local_maxima(image, i, j):\n",
    "                maxima.append([i, j])\n",
    "    return np.array(maxima)"
   ]
  },
  {
   "cell_type": "code",
   "execution_count": 7,
   "metadata": {
    "scrolled": true
   },
   "outputs": [],
   "source": [
    "loc_max = find_local_maxima(dem)"
   ]
  },
  {
   "cell_type": "code",
   "execution_count": 8,
   "metadata": {},
   "outputs": [],
   "source": [
    "maxima = peak_local_max(dem, min_distance=15)"
   ]
  },
  {
   "cell_type": "code",
   "execution_count": 9,
   "metadata": {},
   "outputs": [],
   "source": [
    "def gen_sh(a=1, b=1):\n",
    "    z = []\n",
    "    for x in np.linspace(-1.75, 1.75, 15):\n",
    "        zt = []\n",
    "        for y in np.linspace(-1.75, 1.75, 15):\n",
    "            zt.append(- (x ** 2 / a ** 2) - (y ** 2 / b ** 2))\n",
    "        z.append(zt)\n",
    "    return np.array(z)"
   ]
  },
  {
   "cell_type": "code",
   "execution_count": 10,
   "metadata": {},
   "outputs": [],
   "source": [
    "def draw_mark(image, row, col, color):\n",
    "    for i in range(-2, 3):\n",
    "        for j in range(-2, 3):\n",
    "            image[row + i][col + j] = color\n",
    "    return image"
   ]
  },
  {
   "cell_type": "code",
   "execution_count": 11,
   "metadata": {},
   "outputs": [],
   "source": [
    "sh = gen_sh(6, 6)\n",
    "newsh = gen_sh(1.2, 1.2)\n",
    "newsh -= 5"
   ]
  },
  {
   "cell_type": "code",
   "execution_count": 12,
   "metadata": {},
   "outputs": [],
   "source": [
    "def substr_mid(image, row, col, sz=4):\n",
    "    return image[row-sz:row+sz+1, col-sz:col+sz+1] - image[row][col]"
   ]
  },
  {
   "cell_type": "code",
   "execution_count": 13,
   "metadata": {
    "scrolled": true
   },
   "outputs": [],
   "source": [
    "tree_count = 0\n",
    "trees = []\n",
    "for maxi in loc_max:\n",
    "    ok = True\n",
    "    if maxi[0] < 7 or maxi[0] + 7 >= dem.shape[0]:\n",
    "        continue\n",
    "    if maxi[1] < 7 or maxi[1] + 7 >= dem.shape[1]:\n",
    "        continue\n",
    "    s = substr_mid(dem, maxi[0], maxi[1], 7)\n",
    "    if (s > sh).any(): # check if neighborhood is lower than some paraboloid\n",
    "        ok = False\n",
    "    if (s < newsh).any(): # check that neighborhood is higher than some other paraboloid\n",
    "        ok = False\n",
    "    if ok:\n",
    "        orthoimage = draw_mark(orthoimage, maxi[0], maxi[1], [0, 0, 255])\n",
    "        tree_count += 1\n",
    "        trees.append(maxi)\n",
    "trees = np.array(trees)"
   ]
  },
  {
   "cell_type": "code",
   "execution_count": 14,
   "metadata": {},
   "outputs": [
    {
     "data": {
      "text/plain": [
       "(2114, 2)"
      ]
     },
     "execution_count": 14,
     "metadata": {},
     "output_type": "execute_result"
    }
   ],
   "source": [
    "trees.shape"
   ]
  },
  {
   "cell_type": "code",
   "execution_count": 108,
   "metadata": {},
   "outputs": [
    {
     "data": {
      "text/plain": [
       "True"
      ]
     },
     "execution_count": 108,
     "metadata": {},
     "output_type": "execute_result"
    }
   ],
   "source": [
    "cv2.imwrite('../data/golf_maxima.jpeg', orthoimage)"
   ]
  }
 ],
 "metadata": {
  "kernelspec": {
   "display_name": "Python 3",
   "language": "python",
   "name": "python3"
  },
  "language_info": {
   "codemirror_mode": {
    "name": "ipython",
    "version": 3
   },
   "file_extension": ".py",
   "mimetype": "text/x-python",
   "name": "python",
   "nbconvert_exporter": "python",
   "pygments_lexer": "ipython3",
   "version": "3.9.0"
  }
 },
 "nbformat": 4,
 "nbformat_minor": 4
}
